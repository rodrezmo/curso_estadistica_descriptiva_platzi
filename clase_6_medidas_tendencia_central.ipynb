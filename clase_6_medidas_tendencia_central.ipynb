{
 "cells": [
  {
   "cell_type": "markdown",
   "id": "332546ae-712b-4c90-b00b-01a3dd885016",
   "metadata": {},
   "source": [
    "###MEDIDAS DE TENDENCIA CENTRAL\n",
    "\n",
    "Son una manera de resumir información.\n",
    "\n",
    "- Media(promedio): Noción de centralidad de los datos\n",
    "- Mediana (dato central): Valor central del conjunto de datos o promedio de los dos valores centrales si es \n",
    "  un conjunto de longitud par.\n",
    "- Moda: Valor que más se repite en el conjunto."
   ]
  },
  {
   "cell_type": "code",
   "execution_count": 17,
   "id": "22cc4d41-b219-45b6-8d0a-88324a7524f7",
   "metadata": {},
   "outputs": [],
   "source": [
    "import pandas as pd\n",
    "import matplotlib.pyplot as plt"
   ]
  },
  {
   "cell_type": "markdown",
   "id": "f0f78c51-a0a5-47f4-a6ef-9eb78fdf7b9b",
   "metadata": {},
   "source": [
    "Creamos un df el cual representa una tabla de frecuencias de las edades de un grupo de estudiantes"
   ]
  },
  {
   "cell_type": "code",
   "execution_count": 39,
   "id": "ef19afd7-6c01-4e1c-8d53-5de93cf206b7",
   "metadata": {},
   "outputs": [],
   "source": [
    "edades = [15,15,15,\n",
    "          16,16,16,16,\n",
    "          17,17,17,17,17,\n",
    "          18,18,18,18,18,18,\n",
    "          19,19]"
   ]
  },
  {
   "cell_type": "code",
   "execution_count": 55,
   "id": "fb708daf-5159-4215-82b7-8683f41b6500",
   "metadata": {},
   "outputs": [],
   "source": [
    "df_edades = pd.DataFrame()\n",
    "df_edades['Edad'] = edades\n",
    "df_edades['Frecuencia'] = 1"
   ]
  },
  {
   "cell_type": "code",
   "execution_count": 67,
   "id": "76ac873f-f60a-4da2-b107-c5b91b6ef481",
   "metadata": {},
   "outputs": [],
   "source": [
    "df = df_edades.groupby('Edad')['Frecuencia'].count().reset_index()"
   ]
  },
  {
   "cell_type": "code",
   "execution_count": 71,
   "id": "b2afac98-7251-44ab-8803-62c3ef634356",
   "metadata": {},
   "outputs": [
    {
     "data": {
      "text/html": [
       "<div>\n",
       "<style scoped>\n",
       "    .dataframe tbody tr th:only-of-type {\n",
       "        vertical-align: middle;\n",
       "    }\n",
       "\n",
       "    .dataframe tbody tr th {\n",
       "        vertical-align: top;\n",
       "    }\n",
       "\n",
       "    .dataframe thead th {\n",
       "        text-align: right;\n",
       "    }\n",
       "</style>\n",
       "<table border=\"1\" class=\"dataframe\">\n",
       "  <thead>\n",
       "    <tr style=\"text-align: right;\">\n",
       "      <th></th>\n",
       "      <th>Edad</th>\n",
       "      <th>Frecuencia</th>\n",
       "    </tr>\n",
       "  </thead>\n",
       "  <tbody>\n",
       "    <tr>\n",
       "      <th>0</th>\n",
       "      <td>15</td>\n",
       "      <td>3</td>\n",
       "    </tr>\n",
       "    <tr>\n",
       "      <th>1</th>\n",
       "      <td>16</td>\n",
       "      <td>4</td>\n",
       "    </tr>\n",
       "    <tr>\n",
       "      <th>2</th>\n",
       "      <td>17</td>\n",
       "      <td>5</td>\n",
       "    </tr>\n",
       "    <tr>\n",
       "      <th>3</th>\n",
       "      <td>18</td>\n",
       "      <td>6</td>\n",
       "    </tr>\n",
       "    <tr>\n",
       "      <th>4</th>\n",
       "      <td>19</td>\n",
       "      <td>2</td>\n",
       "    </tr>\n",
       "  </tbody>\n",
       "</table>\n",
       "</div>"
      ],
      "text/plain": [
       "   Edad  Frecuencia\n",
       "0    15           3\n",
       "1    16           4\n",
       "2    17           5\n",
       "3    18           6\n",
       "4    19           2"
      ]
     },
     "execution_count": 71,
     "metadata": {},
     "output_type": "execute_result"
    }
   ],
   "source": [
    "df"
   ]
  },
  {
   "cell_type": "markdown",
   "id": "671d17e9-dc2f-473c-89e2-a31f949d77dd",
   "metadata": {},
   "source": [
    "También creamos el diagrama de frecuencia asociado a la tabla"
   ]
  },
  {
   "cell_type": "code",
   "execution_count": 74,
   "id": "0c5f6890-f6c0-4c78-a337-aa11d63a42b5",
   "metadata": {
    "scrolled": true
   },
   "outputs": [
    {
     "data": {
      "image/png": "[encoded data removed]",
      "text/plain": [
       "<Figure size 800x500 with 1 Axes>"
      ]
     },
     "metadata": {},
     "output_type": "display_data"
    }
   ],
   "source": [
    "# Crear el diagrama de frecuencias\n",
    "plt.figure(figsize=(8, 5))\n",
    "plt.bar(df['Edad'], df['Frecuencia'], color='skyblue', edgecolor='black')\n",
    "plt.title('Diagrama de Frecuencias de Edades')\n",
    "plt.xlabel('Edad')\n",
    "plt.ylabel('Frecuencia')\n",
    "plt.xticks(df['Edad'])  # Asegurarse de que las edades se muestren como ticks en el eje x\n",
    "plt.grid(axis='y')\n",
    "\n",
    "# Mostrar el gráfico\n",
    "plt.show()\n",
    "\n"
   ]
  },
  {
   "cell_type": "code",
   "execution_count": 76,
   "id": "dce2ade2-fd08-485c-aac1-d34d1fca76bc",
   "metadata": {},
   "outputs": [
    {
     "data": {
      "text/html": [
       "<div>\n",
       "<style scoped>\n",
       "    .dataframe tbody tr th:only-of-type {\n",
       "        vertical-align: middle;\n",
       "    }\n",
       "\n",
       "    .dataframe tbody tr th {\n",
       "        vertical-align: top;\n",
       "    }\n",
       "\n",
       "    .dataframe thead th {\n",
       "        text-align: right;\n",
       "    }\n",
       "</style>\n",
       "<table border=\"1\" class=\"dataframe\">\n",
       "  <thead>\n",
       "    <tr style=\"text-align: right;\">\n",
       "      <th></th>\n",
       "      <th>Edad</th>\n",
       "      <th>Frecuencia</th>\n",
       "    </tr>\n",
       "  </thead>\n",
       "  <tbody>\n",
       "    <tr>\n",
       "      <th>count</th>\n",
       "      <td>20.000000</td>\n",
       "      <td>20.0</td>\n",
       "    </tr>\n",
       "    <tr>\n",
       "      <th>mean</th>\n",
       "      <td>17.000000</td>\n",
       "      <td>1.0</td>\n",
       "    </tr>\n",
       "    <tr>\n",
       "      <th>std</th>\n",
       "      <td>1.256562</td>\n",
       "      <td>0.0</td>\n",
       "    </tr>\n",
       "    <tr>\n",
       "      <th>min</th>\n",
       "      <td>15.000000</td>\n",
       "      <td>1.0</td>\n",
       "    </tr>\n",
       "    <tr>\n",
       "      <th>25%</th>\n",
       "      <td>16.000000</td>\n",
       "      <td>1.0</td>\n",
       "    </tr>\n",
       "    <tr>\n",
       "      <th>50%</th>\n",
       "      <td>17.000000</td>\n",
       "      <td>1.0</td>\n",
       "    </tr>\n",
       "    <tr>\n",
       "      <th>75%</th>\n",
       "      <td>18.000000</td>\n",
       "      <td>1.0</td>\n",
       "    </tr>\n",
       "    <tr>\n",
       "      <th>max</th>\n",
       "      <td>19.000000</td>\n",
       "      <td>1.0</td>\n",
       "    </tr>\n",
       "  </tbody>\n",
       "</table>\n",
       "</div>"
      ],
      "text/plain": [
       "            Edad  Frecuencia\n",
       "count  20.000000        20.0\n",
       "mean   17.000000         1.0\n",
       "std     1.256562         0.0\n",
       "min    15.000000         1.0\n",
       "25%    16.000000         1.0\n",
       "50%    17.000000         1.0\n",
       "75%    18.000000         1.0\n",
       "max    19.000000         1.0"
      ]
     },
     "execution_count": 76,
     "metadata": {},
     "output_type": "execute_result"
    }
   ],
   "source": [
    "df_edades.describe()"
   ]
  },
  {
   "cell_type": "markdown",
   "id": "0f68c001-d7bd-446b-bc69-0a0274d71b20",
   "metadata": {},
   "source": [
    "###CUAL USAR?\n",
    "\n",
    "- La media se ve afectada por valores atípicos, ya que podrían 'mover' el centro del conjunto para alguno de los lados.\n",
    "- La moda no aplica para datos numéricos continuos.\n",
    "- La mediana es buena para trabajar con una distribución numérica discreta"
   ]
  },
  {
   "cell_type": "code",
   "execution_count": 80,
   "id": "554d1207-771c-4418-a65d-b337276ced88",
   "metadata": {},
   "outputs": [
    {
     "name": "stdout",
     "output_type": "stream",
     "text": [
      "17.0\n"
     ]
    }
   ],
   "source": [
    "#Promedio: Sumatoria de los valores dividido la cantidad de elementos\n",
    "\n",
    "promedio = df_edades['Edad'].sum() / df_edades['Frecuencia'].sum()\n",
    "print(promedio)"
   ]
  },
  {
   "cell_type": "code",
   "execution_count": 90,
   "id": "e24ae537-9f4f-4422-b581-2553ca95e25a",
   "metadata": {},
   "outputs": [
    {
     "data": {
      "text/plain": [
       "17"
      ]
     },
     "execution_count": 90,
     "metadata": {},
     "output_type": "execute_result"
    }
   ],
   "source": [
    "df_edades['Edad'][(len(df_edades) /2)-1]"
   ]
  },
  {
   "cell_type": "code",
   "execution_count": 100,
   "id": "87aa0004-0ffd-46c6-84ed-ae8c178c63e8",
   "metadata": {},
   "outputs": [
    {
     "name": "stdout",
     "output_type": "stream",
     "text": [
      "17\n"
     ]
    }
   ],
   "source": [
    "#Mediana: Valor central del conjunto o promedio de los valores centrales si el conjunto tiene long par\n",
    "\n",
    "if len(df_edades) % 2 == 0:\n",
    "    valor_central = df_edades['Edad'][len(df_edades)/2]\n",
    "    valor_central2 = df_edades['Edad'][(len(df_edades) /2)-1]\n",
    "    mediana = (valor_central+valor_central2) / 2\n",
    "else:\n",
    "    mediana = df_edades['Edad'][len(df_edades)/2]\n",
    "\n",
    "print(int(mediana))\n",
    "    "
   ]
  },
  {
   "cell_type": "code",
   "execution_count": 98,
   "id": "ddb867d2-154a-4b18-9401-a074b6f303c1",
   "metadata": {},
   "outputs": [
    {
     "name": "stderr",
     "output_type": "stream",
     "text": [
      "/var/folders/hg/c79_0s1967l3jh5ls4bwg_lw0000gn/T/ipykernel_51856/1085575070.py:3: FutureWarning: Calling int on a single element Series is deprecated and will raise a TypeError in the future. Use int(ser.iloc[0]) instead\n",
      "  moda = int(df[df['Frecuencia'] == df['Frecuencia'].max()]['Edad'])\n"
     ]
    },
    {
     "data": {
      "text/plain": [
       "18"
      ]
     },
     "execution_count": 98,
     "metadata": {},
     "output_type": "execute_result"
    }
   ],
   "source": [
    "#Moda: Valor que mas se repite\n",
    "\n",
    "moda = int(df[df['Frecuencia'] == df['Frecuencia'].max()]['Edad'])\n",
    "moda"
   ]
  },
  {
   "cell_type": "code",
   "execution_count": null,
   "id": "da0d5f02-f011-48e1-885c-25bd3d186a4f",
   "metadata": {},
   "outputs": [],
   "source": []
  },
  {
   "cell_type": "code",
   "execution_count": null,
   "id": "ee4cf1c3-0938-406c-b882-daa4faefcfd0",
   "metadata": {},
   "outputs": [],
   "source": []
  }
 ],
 "metadata": {
  "kernelspec": {
   "display_name": "Python 3 (ipykernel)",
   "language": "python",
   "name": "python3"
  },
  "language_info": {
   "codemirror_mode": {
    "name": "ipython",
    "version": 3
   },
   "file_extension": ".py",
   "mimetype": "text/x-python",
   "name": "python",
   "nbconvert_exporter": "python",
   "pygments_lexer": "ipython3",
   "version": "3.11.7"
  }
 },
 "nbformat": 4,
 "nbformat_minor": 5
}
