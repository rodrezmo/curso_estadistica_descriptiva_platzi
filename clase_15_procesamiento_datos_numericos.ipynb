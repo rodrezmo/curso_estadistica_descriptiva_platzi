{
 "cells": [
  {
   "cell_type": "markdown",
   "id": "18902657-248d-4581-bf8b-c87d3a83b341",
   "metadata": {},
   "source": [
    "ESCALAMIENTO LINEAL\n",
    "\n",
    "Es necesario normalizar los datos antes de pasarlos por un modelo de ML ya que son mas eficientes en el rango [-1,1]\n",
    "\n",
    "Existen diferentes tipos y se utilizan para datos con distribución normal. max-min, Clipping, z-score, Winsorizing, etc. Va a depender de lo que querramos hacer con los datos.\n",
    "\n",
    "max-min = (2x - min - max) / (min-max)\n",
    "\n",
    "clipping: se definen valores min y max, los valores que queden afuera del rango van a tomar el valor del min o max según sea el lado de cuál estén. El problema es que modifica los datos, ya que le asigna nuevos valores y se pierden los originales.\n",
    "\n",
    "z-score: (x - promedio) / desviación estandar. Pueden haber numeros que no sean -1,1 pero no quedan tan lejos. "
   ]
  },
  {
   "cell_type": "code",
   "execution_count": 186,
   "id": "e04b447f-532d-409a-94fe-dd120fe471fd",
   "metadata": {},
   "outputs": [],
   "source": [
    "import timeit\n",
    "import numpy as np\n",
    "import pandas as pd\n",
    "import matplotlib.pyplot as plt\n",
    "from sklearn import datasets, linear_model\n",
    "import seaborn as sns"
   ]
  },
  {
   "cell_type": "code",
   "execution_count": 3,
   "id": "c801b816-9105-42eb-b305-f1613c151190",
   "metadata": {},
   "outputs": [],
   "source": [
    "X, y = datasets.load_diabetes(return_X_y=True)\n",
    "raw = X[:, None, 2]"
   ]
  },
  {
   "cell_type": "code",
   "execution_count": 53,
   "id": "d1a7d34a-0946-4541-a421-05cd199d0190",
   "metadata": {},
   "outputs": [
    {
     "data": {
      "text/plain": [
       "array([[ 0.03807591,  0.05068012,  0.06169621, ..., -0.00259226,\n",
       "         0.01990749, -0.01764613],\n",
       "       [-0.00188202, -0.04464164, -0.05147406, ..., -0.03949338,\n",
       "        -0.06833155, -0.09220405],\n",
       "       [ 0.08529891,  0.05068012,  0.04445121, ..., -0.00259226,\n",
       "         0.00286131, -0.02593034],\n",
       "       ...,\n",
       "       [ 0.04170844,  0.05068012, -0.01590626, ..., -0.01107952,\n",
       "        -0.04688253,  0.01549073],\n",
       "       [-0.04547248, -0.04464164,  0.03906215, ...,  0.02655962,\n",
       "         0.04452873, -0.02593034],\n",
       "       [-0.04547248, -0.04464164, -0.0730303 , ..., -0.03949338,\n",
       "        -0.00422151,  0.00306441]])"
      ]
     },
     "execution_count": 53,
     "metadata": {},
     "output_type": "execute_result"
    }
   ],
   "source": [
    "X"
   ]
  },
  {
   "cell_type": "code",
   "execution_count": 57,
   "id": "434b559c-7f93-4932-9516-f5187b32789d",
   "metadata": {},
   "outputs": [],
   "source": [
    "z_scores_raw = (raw - mean) / std"
   ]
  },
  {
   "cell_type": "code",
   "execution_count": 202,
   "id": "80d91f00-4af9-4178-8412-1b0b1b36aaf0",
   "metadata": {},
   "outputs": [
    {
     "data": {
      "text/plain": [
       "numpy.ndarray"
      ]
     },
     "execution_count": 202,
     "metadata": {},
     "output_type": "execute_result"
    }
   ],
   "source": [
    "type(raw)"
   ]
  },
  {
   "cell_type": "code",
   "execution_count": 204,
   "id": "c1232c02-023c-4cd5-a0ba-f86b0bc8f113",
   "metadata": {},
   "outputs": [],
   "source": [
    "def scaled_max_min(x):\n",
    "    scaled = (2*x-x(x) - min(x))/(max(x) - min(x))\n",
    "    return scaled\n",
    "    "
   ]
  },
  {
   "cell_type": "code",
   "execution_count": 137,
   "id": "cce3538a-1a1c-4fba-95a2-be016f12f827",
   "metadata": {},
   "outputs": [],
   "source": [
    "scaled = (2*raw-max(raw) - min(raw))/(max(raw) - min(raw))"
   ]
  },
  {
   "cell_type": "code",
   "execution_count": 11,
   "id": "8c6ed522-fc4f-4d65-a275-aacc1b78260e",
   "metadata": {},
   "outputs": [
    {
     "data": {
      "text/plain": [
       "0.0475651494154494"
      ]
     },
     "execution_count": 11,
     "metadata": {},
     "output_type": "execute_result"
    }
   ],
   "source": [
    "std = np.std(raw)\n",
    "std"
   ]
  },
  {
   "cell_type": "code",
   "execution_count": 13,
   "id": "f7992a26-9808-4c34-9592-8d270022c1f6",
   "metadata": {},
   "outputs": [
    {
     "data": {
      "text/plain": [
       "-2.2455642172282577e-16"
      ]
     },
     "execution_count": 13,
     "metadata": {},
     "output_type": "execute_result"
    }
   ],
   "source": [
    "mean = np.mean(raw)\n",
    "mean"
   ]
  },
  {
   "cell_type": "code",
   "execution_count": 33,
   "id": "d4b42c85-ca0c-479a-9717-d569361e6d81",
   "metadata": {},
   "outputs": [],
   "source": [
    "# Normalización Z-score\n",
    "z_scores = [(x - mean) / std for x in raw]\n",
    "z_scores = [z.item() if isinstance(z, np.ndarray) else z for z in z_scores]"
   ]
  },
  {
   "cell_type": "code",
   "execution_count": 141,
   "id": "1e312ba4-2061-485f-84e2-727b0a509211",
   "metadata": {},
   "outputs": [
    {
     "data": {
      "text/plain": [
       "(array([32., 66., 98., 90., 61., 53., 23., 12.,  5.,  2.]),\n",
       " array([-1. , -0.8, -0.6, -0.4, -0.2,  0. ,  0.2,  0.4,  0.6,  0.8,  1. ]),\n",
       " <BarContainer object of 10 artists>)"
      ]
     },
     "execution_count": 141,
     "metadata": {},
     "output_type": "execute_result"
    },
    {
     "data": {
      "image/png": "[encoded data removed]",
      "text/plain": [
       "<Figure size 640x480 with 3 Axes>"
      ]
     },
     "metadata": {},
     "output_type": "display_data"
    }
   ],
   "source": [
    "fig, axs = plt.subplots(3, 1, sharex=True)\n",
    "\n",
    "axs[0].hist(raw)\n",
    "axs[1].hist(z_scores_raw)\n",
    "axs[2].hist(scaled)"
   ]
  },
  {
   "cell_type": "code",
   "execution_count": 143,
   "id": "8ace2a1d-7d94-4cd9-92ce-07990bf20d65",
   "metadata": {},
   "outputs": [],
   "source": [
    "# modelos para entrenamiento\n",
    "\n",
    "def train_raw():\n",
    "    linear_model.LinearRegression().fit(raw, y)\n",
    "\n",
    "def train_z_score():\n",
    "    linear_model.LinearRegression().fit(z_scores_raw, y)\n",
    "\n",
    "def train_scaled():\n",
    "    linear_model.LinearRegression().fit(scaled, y)"
   ]
  },
  {
   "cell_type": "code",
   "execution_count": 153,
   "id": "8b6bdf3e-29cb-42ab-b74f-7c1280a18c0f",
   "metadata": {},
   "outputs": [
    {
     "name": "stdout",
     "output_type": "stream",
     "text": [
      "train raw: 0.04955633380450308\n",
      "train z scores: 0.019741417141631246\n",
      "train scaled: 0.014881041133776307\n"
     ]
    }
   ],
   "source": [
    "raw_time = timeit.timeit(train_raw, number =100)\n",
    "z_scores_time = timeit.timeit(train_z_score, number =100)\n",
    "scaled_time = timeit.timeit(train_scaled, number =100)\n",
    "\n",
    "print('train raw: {}'.format(raw_time))\n",
    "print('train z scores: {}'.format(z_scores_time))\n",
    "print('train scaled: {}'.format(scaled_time))"
   ]
  },
  {
   "cell_type": "markdown",
   "id": "0ef61480-4517-41fe-986f-e8275abee191",
   "metadata": {},
   "source": [
    "max-min scaling: mejor para datos unifrmemente distribuidos\n",
    "\n",
    "\n",
    "z-score scaling: mejor para datos distribuidos \"normalmente\" (forma campana de gauss)"
   ]
  },
  {
   "cell_type": "markdown",
   "id": "c09434eb-74f6-45ac-8fea-4a33ef05e353",
   "metadata": {},
   "source": [
    "TRANSFORMACIONES NO LINEALES\n",
    "\n",
    "\n",
    "Si tengo datos que no se encuentran distribuidos de forma simétrica le aplicamos una transformación no lineal para que si lo estén y luego se aplican los escalamientos lineales para el modelo de ML\n",
    "\n",
    "Existen diferentes tipos como las logaritmicas, sigmoide, polinomiales, etc.\n",
    "\n",
    "Al aplicar estas transformaciones, valores outliers que parecían muy distantes, quedan cercanos a los valores 1 o -1 y esto achica las distancias."
   ]
  },
  {
   "cell_type": "code",
   "execution_count": 157,
   "id": "0990fe24-b03b-45ca-8fb0-452a33124644",
   "metadata": {},
   "outputs": [],
   "source": [
    "df = pd.read_csv('cars.csv')"
   ]
  },
  {
   "cell_type": "code",
   "execution_count": 188,
   "id": "2f34bdee-e728-4403-94f8-78433299a130",
   "metadata": {},
   "outputs": [
    {
     "data": {
      "text/plain": [
       "Index(['manufacturer_name', 'model_name', 'transmission', 'color',\n",
       "       'odometer_value', 'year_produced', 'engine_fuel', 'engine_has_gas',\n",
       "       'engine_type', 'engine_capacity', 'body_type', 'has_warranty', 'state',\n",
       "       'drivetrain', 'price_usd', 'is_exchangeable', 'location_region',\n",
       "       'number_of_photos', 'up_counter', 'feature_0', 'feature_1', 'feature_2',\n",
       "       'feature_3', 'feature_4', 'feature_5', 'feature_6', 'feature_7',\n",
       "       'feature_8', 'feature_9', 'duration_listed'],\n",
       "      dtype='object')"
      ]
     },
     "execution_count": 188,
     "metadata": {},
     "output_type": "execute_result"
    }
   ],
   "source": [
    "df.columns"
   ]
  },
  {
   "cell_type": "code",
   "execution_count": 192,
   "id": "fff1b658-b55b-428f-88fd-bc664e855b8d",
   "metadata": {},
   "outputs": [
    {
     "name": "stderr",
     "output_type": "stream",
     "text": [
      "/opt/anaconda3/lib/python3.11/site-packages/seaborn/_oldcore.py:1119: FutureWarning: use_inf_as_na option is deprecated and will be removed in a future version. Convert inf values to NaN before operating instead.\n",
      "  with pd.option_context('mode.use_inf_as_na', True):\n"
     ]
    },
    {
     "data": {
      "text/plain": [
       "<Axes: xlabel='price_usd', ylabel='Count'>"
      ]
     },
     "execution_count": 192,
     "metadata": {},
     "output_type": "execute_result"
    },
    {
     "data": {
      "image/png": "[encoded data removed]",
      "text/plain": [
       "<Figure size 640x480 with 1 Axes>"
      ]
     },
     "metadata": {},
     "output_type": "display_data"
    }
   ],
   "source": [
    "sns.histplot(df, x='price_usd')"
   ]
  },
  {
   "cell_type": "code",
   "execution_count": 161,
   "id": "336aa9ec-859d-4061-b078-2b29af50dcbe",
   "metadata": {},
   "outputs": [
    {
     "data": {
      "text/plain": [
       "<Axes: >"
      ]
     },
     "execution_count": 161,
     "metadata": {},
     "output_type": "execute_result"
    },
    {
     "data": {
      "image/png": "[encoded data removed]",
      "text/plain": [
       "<Figure size 640x480 with 1 Axes>"
      ]
     },
     "metadata": {},
     "output_type": "display_data"
    }
   ],
   "source": [
    "df.price_usd.hist()"
   ]
  },
  {
   "cell_type": "markdown",
   "id": "ef4a3f06-f206-4056-b6d2-a9a944e67b2c",
   "metadata": {},
   "source": [
    "Vemos que los precios de los autos se encuentran distribuidos de una forma muy sesgada. Vamos a aplicarle la funcion tangente hiperbolica para empezar a distrbuirlos de otra manera."
   ]
  },
  {
   "cell_type": "code",
   "execution_count": 169,
   "id": "9c4d9fb0-71e1-454e-bce8-08ca6d3583d1",
   "metadata": {},
   "outputs": [
    {
     "data": {
      "text/plain": [
       "<Axes: >"
      ]
     },
     "execution_count": 169,
     "metadata": {},
     "output_type": "execute_result"
    },
    {
     "data": {
      "image/png": "[encoded data removed]",
      "text/plain": [
       "<Figure size 640x480 with 1 Axes>"
      ]
     },
     "metadata": {},
     "output_type": "display_data"
    }
   ],
   "source": [
    "df.price_usd.apply(lambda x: np.tanh(x)).hist()"
   ]
  },
  {
   "cell_type": "markdown",
   "id": "5943cba1-2686-48c0-b9b2-7ab6e187c466",
   "metadata": {},
   "source": [
    "Al aplicar la tanh directamente, vemos que siguen sesgados. Este tipo de funciones, me permiten ajustarlas mediantes dividir a la variable por un valor entero y que distribuya de otra forma los datos."
   ]
  },
  {
   "cell_type": "code",
   "execution_count": 206,
   "id": "9a110fa2-e29a-4c21-9118-222aa675391e",
   "metadata": {},
   "outputs": [
    {
     "data": {
      "image/png": "[encoded data removed]",
      "text/plain": [
       "<Figure size 640x480 with 1 Axes>"
      ]
     },
     "metadata": {},
     "output_type": "display_data"
    }
   ],
   "source": [
    "p=10000\n",
    "df_tanh = df.price_usd.apply(lambda x: np.tanh(x/p)).hist()"
   ]
  },
  {
   "cell_type": "markdown",
   "id": "fe58eea5-ea62-4903-b5b0-3237a12683d9",
   "metadata": {},
   "source": [
    "Al dividir x por 10000, vemos que los datos se distribuyen de una forma mas pareja. "
   ]
  },
  {
   "cell_type": "code",
   "execution_count": 216,
   "id": "cb00db74-d8e9-428a-a84d-2177f87326d1",
   "metadata": {},
   "outputs": [
    {
     "data": {
      "text/plain": [
       "0        0.796878\n",
       "1        0.462117\n",
       "2        0.272905\n",
       "3        0.761552\n",
       "4        0.210229\n",
       "           ...   \n",
       "38526    0.268271\n",
       "38527    0.446244\n",
       "38528    0.405321\n",
       "38529    0.379949\n",
       "38530    0.309507\n",
       "Name: price_usd, Length: 38531, dtype: float64"
      ]
     },
     "execution_count": 216,
     "metadata": {},
     "output_type": "execute_result"
    }
   ],
   "source": [
    "df.price_usd.apply(lambda x: np.tanh(x/p))"
   ]
  },
  {
   "cell_type": "code",
   "execution_count": 218,
   "id": "fdd4dd6d-82ce-4f70-9c3e-6b3f4e51c895",
   "metadata": {},
   "outputs": [],
   "source": [
    "df_tanh = df.price_usd.apply(lambda x: np.tanh(x/p))"
   ]
  },
  {
   "cell_type": "markdown",
   "id": "b69c86a5-fe08-446b-8652-a0cf3d071743",
   "metadata": {},
   "source": [
    "df_tanh ya esta listo para aplicarle una normalizacion y posterior utilizacion en un modelo de ML"
   ]
  },
  {
   "cell_type": "code",
   "execution_count": null,
   "id": "983874e9-73f2-4d60-87e0-7d5ae646e110",
   "metadata": {},
   "outputs": [],
   "source": []
  }
 ],
 "metadata": {
  "kernelspec": {
   "display_name": "Python 3 (ipykernel)",
   "language": "python",
   "name": "python3"
  },
  "language_info": {
   "codemirror_mode": {
    "name": "ipython",
    "version": 3
   },
   "file_extension": ".py",
   "mimetype": "text/x-python",
   "name": "python",
   "nbconvert_exporter": "python",
   "pygments_lexer": "ipython3",
   "version": "3.11.7"
  }
 },
 "nbformat": 4,
 "nbformat_minor": 5
}
